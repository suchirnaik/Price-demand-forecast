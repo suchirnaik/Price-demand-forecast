{
 "cells": [
  {
   "cell_type": "code",
   "execution_count": 52,
   "id": "b8bec833",
   "metadata": {},
   "outputs": [
    {
     "name": "stderr",
     "output_type": "stream",
     "text": [
      "/var/folders/nl/b2hqpwb52vz_kw1r2vyqpxb80000gn/T/ipykernel_94225/3941620568.py:22: FutureWarning: Passing 'suffixes' which cause duplicate columns {'Unnamed: 0_x'} in the result is deprecated and will raise a MergeError in a future version.\n",
      "  main_df = pd.merge(main_df, other_df, on=['Country', 'Year'], how='left')\n",
      "/var/folders/nl/b2hqpwb52vz_kw1r2vyqpxb80000gn/T/ipykernel_94225/3941620568.py:22: FutureWarning: Passing 'suffixes' which cause duplicate columns {'Unnamed: 0_x'} in the result is deprecated and will raise a MergeError in a future version.\n",
      "  main_df = pd.merge(main_df, other_df, on=['Country', 'Year'], how='left')\n"
     ]
    }
   ],
   "source": [
    "import pandas as pd\n",
    "\n",
    "# Load the main dataset from a CSV file\n",
    "main_df = pd.read_csv('Spot_Prices_Target.csv')\n",
    "\n",
    "# Strip spaces and convert 'Year' to string for consistency\n",
    "main_df['Country'] = main_df['Country'].str.strip()\n",
    "main_df['Year'] = main_df['Year'].astype(str).str.strip()\n",
    "\n",
    "# List of paths to other CSV files\n",
    "other_csv_files = ['Crude_oil_exports_52.csv', 'Demand_T96.csv', 'Exports_T94.csv', 'Gas_Reserves_T91.csv', 'Imports_T95.csv', 'NaturalGas_Production_T92.csv', 'Oil_demand_46.csv', 'Oil_exports_dest_51.csv', 'Refinery_capacity_41.csv', 'Refinery_throughput_43.csv', 'Tax_T81.csv', 'Tax_to_CIF_Ratio_T82.csv', 'World_production_T93.csv', 'ActiveRigs-table3.2.csv', 'AccountBalance-table2.7.csv', 'WellsCompleted-table3.3.csv', 'Population-table2.1.csv', 'petroleumExport-table2.5.csv', 'GDP-table2.2.csv', 'GDPGrowthRate-table2.3.csv', 'ExportValue-table2.4.csv', 'crudeOilReserve-table3.1.csv', 'CrudeOilProdution-table3.5.csv', 'bioFuelProdution-table3.7.csv']\n",
    "\n",
    "# Loop through each additional CSV file and merge it with the main dataset\n",
    "for csv_file in other_csv_files:\n",
    "    other_df = pd.read_csv(csv_file)\n",
    "\n",
    "    # Strip spaces and ensure the 'Year' column is a string for consistency\n",
    "    other_df['Country'] = other_df['Country'].str.strip()\n",
    "    other_df['Year'] = other_df['Year'].astype(str).str.strip()\n",
    "\n",
    "    # Merge the datasets\n",
    "    main_df = pd.merge(main_df, other_df, on=['Country', 'Year'], how='left')\n",
    "\n",
    "# Save the merged dataset to a new CSV file\n",
    "main_df.to_csv('merged_dataset.csv', index=False)\n"
   ]
  },
  {
   "cell_type": "code",
   "execution_count": null,
   "id": "aadc26f6",
   "metadata": {},
   "outputs": [],
   "source": []
  }
 ],
 "metadata": {
  "kernelspec": {
   "display_name": "Python 3 (ipykernel)",
   "language": "python",
   "name": "python3"
  },
  "language_info": {
   "codemirror_mode": {
    "name": "ipython",
    "version": 3
   },
   "file_extension": ".py",
   "mimetype": "text/x-python",
   "name": "python",
   "nbconvert_exporter": "python",
   "pygments_lexer": "ipython3",
   "version": "3.11.3"
  }
 },
 "nbformat": 4,
 "nbformat_minor": 5
}
